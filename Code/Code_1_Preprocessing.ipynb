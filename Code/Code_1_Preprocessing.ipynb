{
 "cells": [
  {
   "cell_type": "markdown",
   "metadata": {},
   "source": [
    "#### Goal : \n",
    "create a test / train split without having a subject's ID appear in both files\n",
    "\n",
    "data_split/\n",
    "    train/\n",
    "        Control/\n",
    "        Very Mild Dementia/\n",
    "        Mild Dementia/\n",
    "        Moderate Dementia/\n",
    "    test/\n",
    "        Control/\n",
    "        Very Mild Dementia/\n",
    "        Mild Dementia/\n",
    "        Moderate Dementia/"
   ]
  },
  {
   "cell_type": "code",
   "execution_count": 15,
   "metadata": {},
   "outputs": [],
   "source": [
    "import os \n",
    "import re\n",
    "import pandas as pd \n",
    "import numpy as np\n",
    "import shutil\n",
    "import PIL as Image\n",
    "import random "
   ]
  },
  {
   "cell_type": "code",
   "execution_count": 16,
   "metadata": {},
   "outputs": [],
   "source": [
    "#set seed for \"control\" of randomness for splitting data // reproducibility\n",
    "random.seed(2024)\n",
    "\n",
    "#set path to data\n",
    "data_dir = \"../Data\"\n",
    "\n",
    "#regex for patient ID and scan type/number\n",
    "patient_id_pattern = re.compile(r\"OAS1_(\\d+)_\")\n",
    "scan_pattern = re.compile(r\"mpr-(\\d+)_\")\n",
    "\n",
    "#classification / labels:\n",
    "classification =[\"Control\", \n",
    "                \"Very Mild Dementia\", \n",
    "                \"Mild Dementia\", \n",
    "                \"Moderate Dementia\"]\n",
    "\n",
    "#init empty lists for data\n",
    "labels , patient_ids, scan_ids, filenames, file_paths = [], [], [], [], []"
   ]
  },
  {
   "cell_type": "code",
   "execution_count": 17,
   "metadata": {},
   "outputs": [
    {
     "name": "stdout",
     "output_type": "stream",
     "text": [
      "Completed category:  Control\n",
      "Completed category:  Very Mild Dementia\n",
      "Completed category:  Mild Dementia\n",
      "Completed category:  Moderate Dementia\n"
     ]
    }
   ],
   "source": [
    "# part 1: iterate over all files in the data set to extract metadata \n",
    "for category in classification:\n",
    "    path = os.path.join(data_dir, category)\n",
    "    \n",
    "    # iterate over all files in each category directory\n",
    "    for MRI_filename in os.listdir(path):\n",
    "        if MRI_filename.endswith(\".jpg\"):\n",
    "            # extract patient ID\n",
    "            match = patient_id_pattern.search(MRI_filename)\n",
    "            if match:\n",
    "                labels.append(category)\n",
    "                patient_id = match.group(1)\n",
    "                patient_ids.append(patient_id)\n",
    "                scan_ids.append(scan_pattern.search(MRI_filename).group(1))\n",
    "                filenames.append(MRI_filename)\n",
    "                file_paths.append(os.path.join(path, MRI_filename))\n",
    "            else:\n",
    "                print(f\"Error extracting patient ID from {MRI_filename}\") # just in case... - no issues yet\n",
    "    print(\"Completed category: \", category) \n",
    "    "
   ]
  },
  {
   "cell_type": "code",
   "execution_count": 18,
   "metadata": {},
   "outputs": [],
   "source": [
    "MRI_df = pd.DataFrame({\n",
    "    'Patient_ID': patient_ids,\n",
    "    'Label': labels,\n",
    "    'Scan_ID': scan_ids,\n",
    "    'Filename': filenames,\n",
    "    'File_Path': file_paths\n",
    "})"
   ]
  },
  {
   "cell_type": "code",
   "execution_count": 19,
   "metadata": {},
   "outputs": [
    {
     "data": {
      "text/html": [
       "<div>\n",
       "<style scoped>\n",
       "    .dataframe tbody tr th:only-of-type {\n",
       "        vertical-align: middle;\n",
       "    }\n",
       "\n",
       "    .dataframe tbody tr th {\n",
       "        vertical-align: top;\n",
       "    }\n",
       "\n",
       "    .dataframe thead th {\n",
       "        text-align: right;\n",
       "    }\n",
       "</style>\n",
       "<table border=\"1\" class=\"dataframe\">\n",
       "  <thead>\n",
       "    <tr style=\"text-align: right;\">\n",
       "      <th></th>\n",
       "      <th>Patient_ID</th>\n",
       "      <th>Label</th>\n",
       "      <th>Scan_ID</th>\n",
       "      <th>Filename</th>\n",
       "      <th>File_Path</th>\n",
       "    </tr>\n",
       "  </thead>\n",
       "  <tbody>\n",
       "    <tr>\n",
       "      <th>0</th>\n",
       "      <td>0349</td>\n",
       "      <td>Control</td>\n",
       "      <td>4</td>\n",
       "      <td>OAS1_0349_MR1_mpr-4_142.jpg</td>\n",
       "      <td>../Data/Control/OAS1_0349_MR1_mpr-4_142.jpg</td>\n",
       "    </tr>\n",
       "    <tr>\n",
       "      <th>1</th>\n",
       "      <td>0317</td>\n",
       "      <td>Control</td>\n",
       "      <td>1</td>\n",
       "      <td>OAS1_0317_MR1_mpr-1_141.jpg</td>\n",
       "      <td>../Data/Control/OAS1_0317_MR1_mpr-1_141.jpg</td>\n",
       "    </tr>\n",
       "    <tr>\n",
       "      <th>2</th>\n",
       "      <td>0234</td>\n",
       "      <td>Control</td>\n",
       "      <td>4</td>\n",
       "      <td>OAS1_0234_MR1_mpr-4_136.jpg</td>\n",
       "      <td>../Data/Control/OAS1_0234_MR1_mpr-4_136.jpg</td>\n",
       "    </tr>\n",
       "    <tr>\n",
       "      <th>3</th>\n",
       "      <td>0182</td>\n",
       "      <td>Control</td>\n",
       "      <td>1</td>\n",
       "      <td>OAS1_0182_MR1_mpr-1_139.jpg</td>\n",
       "      <td>../Data/Control/OAS1_0182_MR1_mpr-1_139.jpg</td>\n",
       "    </tr>\n",
       "    <tr>\n",
       "      <th>4</th>\n",
       "      <td>0132</td>\n",
       "      <td>Control</td>\n",
       "      <td>2</td>\n",
       "      <td>OAS1_0132_MR1_mpr-2_117.jpg</td>\n",
       "      <td>../Data/Control/OAS1_0132_MR1_mpr-2_117.jpg</td>\n",
       "    </tr>\n",
       "  </tbody>\n",
       "</table>\n",
       "</div>"
      ],
      "text/plain": [
       "  Patient_ID    Label Scan_ID                     Filename  \\\n",
       "0       0349  Control       4  OAS1_0349_MR1_mpr-4_142.jpg   \n",
       "1       0317  Control       1  OAS1_0317_MR1_mpr-1_141.jpg   \n",
       "2       0234  Control       4  OAS1_0234_MR1_mpr-4_136.jpg   \n",
       "3       0182  Control       1  OAS1_0182_MR1_mpr-1_139.jpg   \n",
       "4       0132  Control       2  OAS1_0132_MR1_mpr-2_117.jpg   \n",
       "\n",
       "                                     File_Path  \n",
       "0  ../Data/Control/OAS1_0349_MR1_mpr-4_142.jpg  \n",
       "1  ../Data/Control/OAS1_0317_MR1_mpr-1_141.jpg  \n",
       "2  ../Data/Control/OAS1_0234_MR1_mpr-4_136.jpg  \n",
       "3  ../Data/Control/OAS1_0182_MR1_mpr-1_139.jpg  \n",
       "4  ../Data/Control/OAS1_0132_MR1_mpr-2_117.jpg  "
      ]
     },
     "execution_count": 19,
     "metadata": {},
     "output_type": "execute_result"
    }
   ],
   "source": [
    "MRI_df.head()"
   ]
  },
  {
   "cell_type": "markdown",
   "metadata": {},
   "source": [
    "### Part2 : splitting the data \"cleanly\" into a train/test split. \n",
    "\n",
    "I would have added in a validation split, but there are only 2 subjects in the moderate category of dementia and I want the model to try and be exposed to as many variations as possible without causing validation errors.\n",
    "\n",
    "##### Step 2: Split into train and test sets by patient.\n",
    "##### For each label, we will:\n",
    "##### - Extract the unique patient IDs\n",
    "##### - Shuffle them\n",
    "##### - Split 80% train, 20% test\n"
   ]
  },
  {
   "cell_type": "code",
   "execution_count": 20,
   "metadata": {},
   "outputs": [
    {
     "data": {
      "text/plain": [
       "Label\n",
       "Control               266\n",
       "Mild Dementia          21\n",
       "Moderate Dementia       2\n",
       "Very Mild Dementia     58\n",
       "Name: Patient_ID, dtype: int64"
      ]
     },
     "execution_count": 20,
     "metadata": {},
     "output_type": "execute_result"
    }
   ],
   "source": [
    "MRI_df.groupby('Label')['Patient_ID'].nunique() ## total is 347 patients"
   ]
  },
  {
   "cell_type": "code",
   "execution_count": 21,
   "metadata": {},
   "outputs": [],
   "source": [
    "# splitting the Control group in half before splitting all of the subjects into train and test set"
   ]
  },
  {
   "cell_type": "code",
   "execution_count": 22,
   "metadata": {},
   "outputs": [],
   "source": [
    "control_subjects = MRI_df[MRI_df['Label'] == 'Control']['Patient_ID'].unique()\n",
    "\n",
    "# Randomly select 1/3  to keep\n",
    "subjects_to_keep = random.sample(list(control_subjects), len(control_subjects) // 3)\n",
    "\n",
    "# Filter the DataFrame to only include the selected subjects\n",
    "MRI_df_reduced = MRI_df[\n",
    "    (MRI_df['Label'] != 'Control') | (MRI_df['Patient_ID'].isin(subjects_to_keep))\n",
    "    ]\n"
   ]
  },
  {
   "cell_type": "code",
   "execution_count": 23,
   "metadata": {},
   "outputs": [
    {
     "data": {
      "text/plain": [
       "Label\n",
       "Control               88\n",
       "Mild Dementia         21\n",
       "Moderate Dementia      2\n",
       "Very Mild Dementia    58\n",
       "Name: Patient_ID, dtype: int64"
      ]
     },
     "execution_count": 23,
     "metadata": {},
     "output_type": "execute_result"
    }
   ],
   "source": [
    "MRI_df_reduced.groupby('Label')['Patient_ID'].nunique()"
   ]
  },
  {
   "cell_type": "code",
   "execution_count": 24,
   "metadata": {},
   "outputs": [],
   "source": [
    "train_ratio = 0.8   \n",
    "train_patients, test_patients = {} , {}"
   ]
  },
  {
   "cell_type": "code",
   "execution_count": 25,
   "metadata": {},
   "outputs": [],
   "source": [
    "for category in classification:\n",
    "    ## unique patients IDs in each category\n",
    "    unique_patients = MRI_df_reduced.loc[MRI_df['Label'] == category]['Patient_ID'].unique().tolist()\n",
    "    random.shuffle(unique_patients) # shuffle the ids by category (for randomness)\n",
    "    \n",
    "    ## split index\n",
    "    split_index = int(train_ratio * len(unique_patients))\n",
    "    \n",
    "    ## assign subjects to train/test files\n",
    "    train_patients[category] = unique_patients[:split_index]\n",
    "    test_patients[category] = unique_patients[split_index:]\n"
   ]
  },
  {
   "cell_type": "code",
   "execution_count": 26,
   "metadata": {},
   "outputs": [
    {
     "name": "stdout",
     "output_type": "stream",
     "text": [
      "TRAIN: \n",
      " ['0351'] \n",
      "TEST: \n",
      " ['0308']\n"
     ]
    }
   ],
   "source": [
    "# check the patients in the moderate dementia groups are properly split \n",
    "# -- they should not come up in both train and test (1 patient in both)\n",
    "\n",
    "print(f\"TRAIN: \\n {train_patients['Moderate Dementia']} \\nTEST: \\n {test_patients['Moderate Dementia']}\")\n"
   ]
  },
  {
   "cell_type": "markdown",
   "metadata": {},
   "source": [
    "### Assign the subjects and their images to their respective files "
   ]
  },
  {
   "cell_type": "code",
   "execution_count": 27,
   "metadata": {},
   "outputs": [
    {
     "name": "stdout",
     "output_type": "stream",
     "text": [
      "Data has been split into train and test sets successfully!\n"
     ]
    }
   ],
   "source": [
    "output_path= \"../Organized_Data\"\n",
    "train_dir = os.path.join(output_path, \"train\")\n",
    "test_dir = os.path.join(output_path, \"test\")\n",
    "\n",
    "for directory in [output_path, train_dir, test_dir]:\n",
    "    if not os.path.exists(directory):\n",
    "        os.makedirs(directory, exist_ok=True)\n",
    "        \n",
    "for category in classification:\n",
    "    os.makedirs(os.path.join(train_dir, category), exist_ok=True)\n",
    "    os.makedirs(os.path.join(test_dir, category), exist_ok=True)\n",
    "    \n",
    "    # Copy/move TRAIN subjects files/images\n",
    "    for patient_id in train_patients[category]:\n",
    "        # select all rows with TRAIN patient_id and category\n",
    "        subset = MRI_df_reduced[(MRI_df_reduced['Patient_ID'] == patient_id) & (MRI_df_reduced['Label'] == category)]\n",
    "        for row in subset.itertuples():\n",
    "            shutil.copy(row.File_Path, os.path.join(train_dir, category, row.Filename))\n",
    "\n",
    "    # Copy/move TEST subjects files/images\n",
    "    for patient_id in test_patients[category]:\n",
    "        # select all rows with TEST patient_id and category\n",
    "        subset = MRI_df_reduced[(MRI_df_reduced['Patient_ID'] == patient_id) & (MRI_df_reduced['Label'] == category)]\n",
    "        for row in subset.itertuples():\n",
    "            shutil.copy(row.File_Path, os.path.join(test_dir, category, row.Filename))\n",
    "\n",
    "print(\"Data has been split into train and test sets successfully!\")"
   ]
  },
  {
   "cell_type": "code",
   "execution_count": 29,
   "metadata": {},
   "outputs": [
    {
     "data": {
      "image/png": "[encoded data removed]",
      "text/plain": [
       "<Figure size 1000x600 with 1 Axes>"
      ]
     },
     "metadata": {},
     "output_type": "display_data"
    }
   ],
   "source": [
    "\n",
    "import seaborn as sns\n",
    "import matplotlib.pyplot as plt\n",
    "\n",
    "# number of patients in each category for train and test sets\n",
    "train_counts = {category: len(patients) for category, patients in train_patients.items()}\n",
    "test_counts = {category: len(patients) for category, patients in test_patients.items()}\n",
    "\n",
    "# dataFrame for plotting\n",
    "split_counts_df = pd.DataFrame({'Train': train_counts, 'Test': test_counts})\n",
    "\n",
    "# color palette\n",
    "category_colors = sns.color_palette(\"viridis\", n_colors=2)\n",
    "\n",
    "# plotting\n",
    "split_counts_df.plot(kind='bar', figsize=(10, 6), color=category_colors)\n",
    "plt.title('Train/Test Split Counts by Category')\n",
    "plt.xlabel('Category')\n",
    "plt.ylabel('Number of Patients')\n",
    "plt.legend(title='Dataset Split')\n",
    "xticks = plt.xticks(rotation=0)\n",
    "sns.despine()\n",
    "plt.show()"
   ]
  },
  {
   "cell_type": "code",
   "execution_count": 15,
   "metadata": {},
   "outputs": [],
   "source": [
    "os.makedirs(\"../Metadata\", exist_ok=True)"
   ]
  },
  {
   "cell_type": "code",
   "execution_count": 16,
   "metadata": {},
   "outputs": [
    {
     "name": "stdout",
     "output_type": "stream",
     "text": [
      "Metadata has been saved successfully!\n",
      "Sorted Metadata has been saved successfully!\n"
     ]
    }
   ],
   "source": [
    "MRI_df.to_csv(\"../Metadata/MRI_metadata.csv\", index=False)\n",
    "print(\"Metadata has been saved successfully!\")\n",
    "sorted_MRI_df=MRI_df.sort_values(by='Patient_ID', inplace=False)\n",
    "sorted_MRI_df.to_csv(\"../Metadata/Sorted_MRI_metadata.csv\", index=False)\n",
    "\n",
    "MRI_df_reduced.to_csv(\"../Metadata/Reduced_MRI_metadata.csv\", index=False)\n",
    "sorted_MRI_df_reduced=MRI_df_reduced.sort_values(by='Patient_ID', inplace=False)\n",
    "sorted_MRI_df_reduced.to_csv(\"../Metadata/Sorted_Reduced_MRI_metadata.csv\", index=False)\n",
    "\n",
    "print(\"Sorted Metadata has been saved successfully!\")"
   ]
  },
  {
   "cell_type": "code",
   "execution_count": 17,
   "metadata": {},
   "outputs": [
    {
     "name": "stdout",
     "output_type": "stream",
     "text": [
      "432185 210145\n"
     ]
    }
   ],
   "source": [
    "print( MRI_df.size, MRI_df_reduced.size) "
   ]
  }
 ],
 "metadata": {
  "kernelspec": {
   "display_name": "base",
   "language": "python",
   "name": "python3"
  },
  "language_info": {
   "codemirror_mode": {
    "name": "ipython",
    "version": 3
   },
   "file_extension": ".py",
   "mimetype": "text/x-python",
   "name": "python",
   "nbconvert_exporter": "python",
   "pygments_lexer": "ipython3",
   "version": "3.11.9"
  }
 },
 "nbformat": 4,
 "nbformat_minor": 2
}
